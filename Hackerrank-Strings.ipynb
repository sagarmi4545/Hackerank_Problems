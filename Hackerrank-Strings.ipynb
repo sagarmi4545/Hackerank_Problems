{
 "cells": [
  {
   "cell_type": "markdown",
   "metadata": {},
   "source": [
    "You are given a string and your task is to swap cases. In other words, convert all lowercase letters to uppercase letters and vice versa."
   ]
  },
  {
   "cell_type": "code",
   "execution_count": 4,
   "metadata": {},
   "outputs": [
    {
     "name": "stdout",
     "output_type": "stream",
     "text": [
      "FGDFVBdczsdcvzcxv\n",
      "fgdfvbDCZSDCVZCXV\n"
     ]
    }
   ],
   "source": [
    "def swap_case(s):\n",
    "    k=\"\"\n",
    "    for i in s:\n",
    "        if i.islower():\n",
    "            k=k+i.upper()\n",
    "        else:\n",
    "            k=k+i.lower()\n",
    "    return k\n",
    "\n",
    "s = input()\n",
    "result = swap_case(s)\n",
    "print(result)"
   ]
  },
  {
   "cell_type": "markdown",
   "metadata": {},
   "source": [
    "You are given a string. Split the string on a \" \" (space) delimiter and join using a - hyphen."
   ]
  },
  {
   "cell_type": "code",
   "execution_count": 5,
   "metadata": {},
   "outputs": [
    {
     "name": "stdout",
     "output_type": "stream",
     "text": [
      "sdfvd sdfvdfv dhdhdh\n",
      "sdfvd-sdfvdfv-dhdhdh\n"
     ]
    }
   ],
   "source": [
    "def split_and_join(line):\n",
    "    # write your code here\n",
    "    line=line.split(\" \")\n",
    "    line=\"-\".join(line)\n",
    "    return line\n",
    "line = input()\n",
    "result = split_and_join(line)\n",
    "print(result)"
   ]
  },
  {
   "cell_type": "markdown",
   "metadata": {},
   "source": [
    "You are given the firstname and lastname of a person on two different lines. Your task is to read them and print the following:"
   ]
  },
  {
   "cell_type": "code",
   "execution_count": 6,
   "metadata": {},
   "outputs": [
    {
     "name": "stdout",
     "output_type": "stream",
     "text": [
      "sagar\n",
      "reddy\n",
      "Hello sagar reddy! You just delved into python.\n"
     ]
    }
   ],
   "source": [
    "def print_full_name(first, last):\n",
    "   \n",
    "    return print(\"Hello {} {}! You just delved into python.\".format(first, last))\n",
    "    # Write your code here\n",
    "\n",
    "first_name = input()\n",
    "last_name = input()\n",
    "print_full_name(first_name, last_name)"
   ]
  },
  {
   "cell_type": "markdown",
   "metadata": {},
   "source": [
    "Read a given string, change the character at a given index and then print the modified string."
   ]
  },
  {
   "cell_type": "code",
   "execution_count": 10,
   "metadata": {},
   "outputs": [
    {
     "name": "stdout",
     "output_type": "stream",
     "text": [
      "sagarregdy\n",
      "7 d\n",
      "sagarreddy\n"
     ]
    }
   ],
   "source": [
    "def mutate_string(string, position, character):\n",
    "    return string[:position]+character+string[position+1:]\n",
    "\n",
    "s = input()\n",
    "i, c = input().split()\n",
    "s_new = mutate_string(s, int(i), c)\n",
    "print(s_new)"
   ]
  },
  {
   "cell_type": "markdown",
   "metadata": {},
   "source": [
    "count number of times a substring present in the string"
   ]
  },
  {
   "cell_type": "code",
   "execution_count": 13,
   "metadata": {},
   "outputs": [
    {
     "name": "stdout",
     "output_type": "stream",
     "text": [
      "sagarsagarsagar\n",
      "sagar\n",
      "3\n"
     ]
    }
   ],
   "source": [
    "def count_substring(string, sub_string):\n",
    "    count=0\n",
    "    for i in range(len(string)-len(sub_string)+1):\n",
    "        if string[i:len(sub_string)+i]==sub_string:\n",
    "            count+=1\n",
    "    return count\n",
    "\n",
    "string = input().strip()\n",
    "sub_string = input().strip()\n",
    "    \n",
    "count = count_substring(string, sub_string)\n",
    "print(count)"
   ]
  },
  {
   "cell_type": "markdown",
   "metadata": {},
   "source": [
    "You are given a string .\n",
    "Your task is to find out if the string  contains: alphanumeric characters, alphabetical characters, digits, lowercase and uppercase characters."
   ]
  },
  {
   "cell_type": "code",
   "execution_count": 14,
   "metadata": {},
   "outputs": [
    {
     "name": "stdout",
     "output_type": "stream",
     "text": [
      "67ngffhdxcvgLL\n",
      "True\n",
      "True\n",
      "True\n",
      "True\n",
      "True\n"
     ]
    }
   ],
   "source": [
    "s = input()\n",
    "print(any([i.isalnum() for i in s]))\n",
    "print(any([i.isalpha() for i in s]))\n",
    "print(any([i.isdigit() for i in s]))\n",
    "print(any([i.islower() for i in s]))\n",
    "print(any([i.isupper() for i in s]))"
   ]
  },
  {
   "cell_type": "markdown",
   "metadata": {},
   "source": [
    "You are given a partial code that is used for generating the HackerRank Logo of variable thickness.\n",
    "Your task is to replace the blank (______) with rjust, ljust or center."
   ]
  },
  {
   "cell_type": "code",
   "execution_count": 16,
   "metadata": {},
   "outputs": [
    {
     "name": "stdout",
     "output_type": "stream",
     "text": [
      "10\n",
      "         H         \n",
      "        HHH        \n",
      "       HHHHH       \n",
      "      HHHHHHH      \n",
      "     HHHHHHHHH     \n",
      "    HHHHHHHHHHH    \n",
      "   HHHHHHHHHHHHH   \n",
      "  HHHHHHHHHHHHHHH  \n",
      " HHHHHHHHHHHHHHHHH \n",
      "HHHHHHHHHHHHHHHHHHH\n",
      "     HHHHHHHHHH                              HHHHHHHHHH                         \n",
      "     HHHHHHHHHH                              HHHHHHHHHH                         \n",
      "     HHHHHHHHHH                              HHHHHHHHHH                         \n",
      "     HHHHHHHHHH                              HHHHHHHHHH                         \n",
      "     HHHHHHHHHH                              HHHHHHHHHH                         \n",
      "     HHHHHHHHHH                              HHHHHHHHHH                         \n",
      "     HHHHHHHHHH                              HHHHHHHHHH                         \n",
      "     HHHHHHHHHH                              HHHHHHHHHH                         \n",
      "     HHHHHHHHHH                              HHHHHHHHHH                         \n",
      "     HHHHHHHHHH                              HHHHHHHHHH                         \n",
      "     HHHHHHHHHH                              HHHHHHHHHH                         \n",
      "     HHHHHHHHHHHHHHHHHHHHHHHHHHHHHHHHHHHHHHHHHHHHHHHHHH     \n",
      "     HHHHHHHHHHHHHHHHHHHHHHHHHHHHHHHHHHHHHHHHHHHHHHHHHH     \n",
      "     HHHHHHHHHHHHHHHHHHHHHHHHHHHHHHHHHHHHHHHHHHHHHHHHHH     \n",
      "     HHHHHHHHHHHHHHHHHHHHHHHHHHHHHHHHHHHHHHHHHHHHHHHHHH     \n",
      "     HHHHHHHHHHHHHHHHHHHHHHHHHHHHHHHHHHHHHHHHHHHHHHHHHH     \n",
      "     HHHHHHHHHH                              HHHHHHHHHH                         \n",
      "     HHHHHHHHHH                              HHHHHHHHHH                         \n",
      "     HHHHHHHHHH                              HHHHHHHHHH                         \n",
      "     HHHHHHHHHH                              HHHHHHHHHH                         \n",
      "     HHHHHHHHHH                              HHHHHHHHHH                         \n",
      "     HHHHHHHHHH                              HHHHHHHHHH                         \n",
      "     HHHHHHHHHH                              HHHHHHHHHH                         \n",
      "     HHHHHHHHHH                              HHHHHHHHHH                         \n",
      "     HHHHHHHHHH                              HHHHHHHHHH                         \n",
      "     HHHHHHHHHH                              HHHHHHHHHH                         \n",
      "     HHHHHHHHHH                              HHHHHHHHHH                         \n",
      "                                        HHHHHHHHHHHHHHHHHHH \n",
      "                                         HHHHHHHHHHHHHHHHH  \n",
      "                                          HHHHHHHHHHHHHHH   \n",
      "                                           HHHHHHHHHHHHH    \n",
      "                                            HHHHHHHHHHH     \n",
      "                                             HHHHHHHHH      \n",
      "                                              HHHHHHH       \n",
      "                                               HHHHH        \n",
      "                                                HHH         \n",
      "                                                 H          \n"
     ]
    }
   ],
   "source": [
    "#Replace all ______ with rjust, ljust or center. \n",
    "\n",
    "thickness = int(input()) #This must be an odd number\n",
    "c = 'H'\n",
    "\n",
    "#Top Cone\n",
    "for i in range(thickness):\n",
    "    print((c*i).rjust(thickness-1)+c+(c*i).ljust(thickness-1))\n",
    "\n",
    "#Top Pillars\n",
    "for i in range(thickness+1):\n",
    "    print((c*thickness).center(thickness*2)+(c*thickness).center(thickness*6))\n",
    "\n",
    "#Middle Belt\n",
    "for i in range((thickness+1)//2):\n",
    "    print((c*thickness*5).center(thickness*6))    \n",
    "\n",
    "#Bottom Pillars\n",
    "for i in range(thickness+1):\n",
    "    print((c*thickness).center(thickness*2)+(c*thickness).center(thickness*6))    \n",
    "\n",
    "#Bottom Cone\n",
    "for i in range(thickness):\n",
    "    print(((c*(thickness-i-1)).rjust(thickness)+c+(c*(thickness-i-1)).ljust(thickness)).rjust(thickness*6))"
   ]
  },
  {
   "cell_type": "markdown",
   "metadata": {},
   "source": [
    "You are given a string  and width .\n",
    "Your task is to wrap the string into a paragraph of width ."
   ]
  },
  {
   "cell_type": "code",
   "execution_count": 17,
   "metadata": {},
   "outputs": [
    {
     "name": "stdout",
     "output_type": "stream",
     "text": [
      "abcbcadgf\n",
      "3\n",
      "abc\n",
      "bca\n",
      "dgf\n"
     ]
    }
   ],
   "source": [
    "import textwrap\n",
    "\n",
    "def wrap(string, max_width):\n",
    "    li=[]\n",
    "    for i in range(0,len(string)-1, max_width):\n",
    "        li.append(string[i:i+max_width])\n",
    "    return \"\\n\".join(li)\n",
    "\n",
    "string, max_width = input(), int(input())\n",
    "result = wrap(string, max_width)\n",
    "print(result)"
   ]
  },
  {
   "cell_type": "markdown",
   "metadata": {},
   "source": [
    "Mr. Vincent works in a door mat manufacturing company. One day, he designed a new door mat with the following specifications:\n",
    "\n",
    "Mat size must be X. ( is an odd natural number, and  is  times .)\n",
    "The design should have 'WELCOME' written in the center.\n",
    "The design pattern should only use |, . and - characters."
   ]
  },
  {
   "cell_type": "code",
   "execution_count": 19,
   "metadata": {},
   "outputs": [
    {
     "name": "stdout",
     "output_type": "stream",
     "text": [
      "9 27\n",
      "------------.|.------------\n",
      "---------.|..|..|.---------\n",
      "------.|..|..|..|..|.------\n",
      "---.|..|..|..|..|..|..|.---\n",
      "----------WELCOME----------\n",
      "---.|..|..|..|..|..|..|.---\n",
      "------.|..|..|..|..|.------\n",
      "---------.|..|..|.---------\n",
      "------------.|.------------\n"
     ]
    }
   ],
   "source": [
    "# Enter your code here. Read input from STDIN. Print output to STDOUT\n",
    "n,m=map(int, input().split())\n",
    "for i in range(1,n,2):\n",
    "    print(('.|.'*i).center(m,\"-\"))\n",
    "print(\"WELCOME\".center(m,\"-\"))\n",
    "for i in range(n-2,-1,-2):\n",
    "    print(('.|.'*i).center(m,\"-\"))"
   ]
  },
  {
   "cell_type": "markdown",
   "metadata": {},
   "source": [
    "Given an integer, , print the following values for each integer  from  to :\n",
    "\n",
    "Decimal\n",
    "Octal\n",
    "Hexadecimal (capitalized)\n",
    "Binary"
   ]
  },
  {
   "cell_type": "code",
   "execution_count": 20,
   "metadata": {},
   "outputs": [
    {
     "name": "stdout",
     "output_type": "stream",
     "text": [
      "8\n",
      "   1    1    1    1 \n",
      "   2    2    2   10 \n",
      "   3    3    3   11 \n",
      "   4    4    4  100 \n",
      "   5    5    5  101 \n",
      "   6    6    6  110 \n",
      "   7    7    7  111 \n",
      "   8   10    8 1000 \n"
     ]
    }
   ],
   "source": [
    "def print_formatted(number):\n",
    "    # your code goes here\n",
    "    l1 = len(bin(number)[2:])\n",
    "    for i in range(1,number+1):\n",
    "        print(str(i).rjust(l1,' '),end=\" \")\n",
    "        print(oct(i)[2:].rjust(l1,' '),end=\" \")\n",
    "        print(((hex(i)[2:]).upper()).rjust(l1,' '),end=\" \")\n",
    "        print(bin(i)[2:].rjust(l1,' '),end=\" \")\n",
    "        print(\"\")\n",
    "        \n",
    "n = int(input())\n",
    "print_formatted(n)"
   ]
  },
  {
   "cell_type": "markdown",
   "metadata": {},
   "source": [
    "You are given an integer, . Your task is to print an alphabet rangoli of size . (Rangoli is a form of Indian folk art based on creation of patterns.)"
   ]
  },
  {
   "cell_type": "code",
   "execution_count": 21,
   "metadata": {},
   "outputs": [
    {
     "name": "stdout",
     "output_type": "stream",
     "text": [
      "8\n",
      "--------------h--------------\n",
      "------------h-g-h------------\n",
      "----------h-g-f-g-h----------\n",
      "--------h-g-f-e-f-g-h--------\n",
      "------h-g-f-e-d-e-f-g-h------\n",
      "----h-g-f-e-d-c-d-e-f-g-h----\n",
      "--h-g-f-e-d-c-b-c-d-e-f-g-h--\n",
      "h-g-f-e-d-c-b-a-b-c-d-e-f-g-h\n",
      "--h-g-f-e-d-c-b-c-d-e-f-g-h--\n",
      "----h-g-f-e-d-c-d-e-f-g-h----\n",
      "------h-g-f-e-d-e-f-g-h------\n",
      "--------h-g-f-e-f-g-h--------\n",
      "----------h-g-f-g-h----------\n",
      "------------h-g-h------------\n",
      "--------------h--------------\n"
     ]
    }
   ],
   "source": [
    "def print_rangoli(size):\n",
    "    string=''\n",
    "    width=size*4-3\n",
    "    for i in range(1,size+1):\n",
    "        for j in range(0,i):\n",
    "            string += chr(96+size-j)\n",
    "            if len(string) < width :\n",
    "                string += '-'\n",
    "        for k in range(i-1,0,-1):    \n",
    "            string += chr(97+size-k)\n",
    "            if len(string) < width :\n",
    "                string += '-'\n",
    "        print(string.center(width,'-'))\n",
    "        string = ''\n",
    "\n",
    "    for i in range(size-1,0,-1):\n",
    "        string = ''\n",
    "        for j in range(0,i):\n",
    "            string += chr(96+size-j)\n",
    "            if len(string) < width :\n",
    "                string += '-'\n",
    "        for k in range(i-1,0,-1):\n",
    "            string += chr(97+size-k)\n",
    "            if len(string) < width :\n",
    "                string += '-'\n",
    "        print(string.center(width,'-'))\n",
    "n= int(input())\n",
    "print_rangoli(n)"
   ]
  },
  {
   "cell_type": "markdown",
   "metadata": {},
   "source": [
    "You are asked to ensure that the first and last names of people begin with a capital letter in their passports. For example, alison heck should be capitalised correctly as Alison Heck.\n",
    "\n",
    "\n",
    "Given a full name, your task is to capitalize the name appropriately."
   ]
  },
  {
   "cell_type": "code",
   "execution_count": 25,
   "metadata": {},
   "outputs": [
    {
     "name": "stdout",
     "output_type": "stream",
     "text": [
      "Hello world thank you\n",
      "Hello World Thank You\n"
     ]
    }
   ],
   "source": [
    "def solve(s):\n",
    "    for i in s.split():\n",
    "        s=s.replace(i,i.capitalize())\n",
    "    return s\n",
    "\n",
    "s = input()\n",
    "result = solve(s)\n",
    "print(result)"
   ]
  },
  {
   "cell_type": "markdown",
   "metadata": {},
   "source": [
    "Kevin and Stuart want to play the 'The Minion Game'.\n",
    "\n",
    "Game Rules\n",
    "\n",
    "Both players are given the same string, .\n",
    "Both players have to make substrings using the letters of the string .\n",
    "Stuart has to make words starting with consonants.\n",
    "Kevin has to make words starting with vowels.\n",
    "The game ends when both players have made all possible substrings.\n",
    "\n",
    "Your task is to determine the winner of the game and their score."
   ]
  },
  {
   "cell_type": "code",
   "execution_count": 27,
   "metadata": {},
   "outputs": [
    {
     "name": "stdout",
     "output_type": "stream",
     "text": [
      "BananaMango\n",
      "Stuart 37\n"
     ]
    }
   ],
   "source": [
    "def minion_game(string):\n",
    "    vowels_list = set(['a','e','i','o','u','A','E','I','O','U'])\n",
    "    consonants = 0\n",
    "    vowels = 0\n",
    " \n",
    "    n = len(string)\n",
    "    for i, l in enumerate(string):\n",
    "        if l in vowels_list:\n",
    "            vowels += n-i\n",
    "        else:\n",
    "            consonants += n-i\n",
    " \n",
    "    if vowels == consonants:\n",
    "        print(\"Draw\")\n",
    "    elif vowels > consonants:\n",
    "        print(\"Kevin {}\".format(vowels))\n",
    "    else:\n",
    "        print(\"Stuart {}\".format(consonants))\n",
    "    # your code goes here\n",
    "\n",
    "s = input()\n",
    "minion_game(s)"
   ]
  },
  {
   "cell_type": "markdown",
   "metadata": {},
   "source": [
    "Consider the following:\n",
    "\n",
    "A string, , of length  where .\n",
    "An integer, , where  is a factor of .\n",
    "We can split  into  substrings where each subtring, , consists of a contiguous block of  characters in . Then, use each  to create string  such that:\n",
    "\n",
    "The characters in  are a subsequence of the characters in .\n",
    "Any repeat occurrence of a character is removed from the string such that each character in  occurs exactly once. In other words, if the character at some index  in  occurs at a previous index  in , then do not include the character in string .\n",
    "Given  and , print  lines where each line  denotes string ."
   ]
  },
  {
   "cell_type": "code",
   "execution_count": 28,
   "metadata": {},
   "outputs": [
    {
     "name": "stdout",
     "output_type": "stream",
     "text": [
      "AAABBBDDDREST\n",
      "5\n",
      "AB\n",
      "BDR\n",
      "EST\n"
     ]
    }
   ],
   "source": [
    "def merge_the_tools(string, k):\n",
    "    u=[]\n",
    "    for i in range(0,len(string),k):\n",
    "        u.append(\"\".join(string[i:i+k]))\n",
    "    f=[]\n",
    "    for i in u:\n",
    "        li=\"\"\n",
    "        for j in range(len(i)):\n",
    "            if i[j] in li:\n",
    "                li=li\n",
    "            else:\n",
    "                li+=i[j]\n",
    "        f.append(li)\n",
    "    return print(\"\\n\".join(f))\n",
    "\n",
    "    # your code goes here\n",
    "\n",
    "string, k = input(), int(input())\n",
    "merge_the_tools(string, k)"
   ]
  }
 ],
 "metadata": {
  "kernelspec": {
   "display_name": "Python 3",
   "language": "python",
   "name": "python3"
  },
  "language_info": {
   "codemirror_mode": {
    "name": "ipython",
    "version": 3
   },
   "file_extension": ".py",
   "mimetype": "text/x-python",
   "name": "python",
   "nbconvert_exporter": "python",
   "pygments_lexer": "ipython3",
   "version": "3.8.5"
  }
 },
 "nbformat": 4,
 "nbformat_minor": 4
}
