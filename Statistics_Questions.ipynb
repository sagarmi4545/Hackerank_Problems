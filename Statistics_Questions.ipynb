{
 "cells": [
  {
   "cell_type": "markdown",
   "metadata": {},
   "source": [
    "### Day 4: Binomial Distribution 1"
   ]
  },
  {
   "cell_type": "code",
   "execution_count": 1,
   "metadata": {},
   "outputs": [
    {
     "name": "stdout",
     "output_type": "stream",
     "text": [
      "1.09 1\n",
      "0.696\n"
     ]
    }
   ],
   "source": [
    "def fact(n):\n",
    "    return 1 if n == 0 else n*fact(n-1)\n",
    "\n",
    "def combinations(n, x):\n",
    "    return fact(n) / (fact(x) * fact(n-x))\n",
    "\n",
    "def binomial_dist(x, n, p):\n",
    "    return combinations(n, x) * p**x * (1-p)**(n-x)\n",
    "\n",
    "l, r = list(map(float, input().split(\" \")))\n",
    "odds = l / r\n",
    "print(round(sum([binomial_dist(i, 6, odds / (1 + odds)) for i in range(3, 7)]), 3))"
   ]
  },
  {
   "cell_type": "markdown",
   "metadata": {},
   "source": [
    "### Day 4: Binomial Distribution 2"
   ]
  },
  {
   "cell_type": "code",
   "execution_count": 21,
   "metadata": {},
   "outputs": [
    {
     "name": "stdout",
     "output_type": "stream",
     "text": [
      "12 10\n",
      "0.891\n",
      "0.342\n"
     ]
    }
   ],
   "source": [
    "def fact(n):\n",
    "    return 1 if n == 0 else n*fact(n-1)\n",
    "\n",
    "def combinations(n, x):\n",
    "    return fact(n) / (fact(x) * fact(n-x))\n",
    "\n",
    "def binomial_dist(x, n, p):\n",
    "    return combinations(n, x) * p**x * (1-p)**(n-x)\n",
    "\n",
    "n, N = list(map(int, input().split(\" \")))\n",
    "p = (n/100)\n",
    "\n",
    "\n",
    "print(round(sum([binomial_dist(i,N,p) for i in range(0,3)]),3))\n",
    "print(round(sum([binomial_dist(i,N,p) for i in range(2,N+1)]),3))"
   ]
  },
  {
   "cell_type": "markdown",
   "metadata": {},
   "source": [
    "# Day 5: Normal Distribution I"
   ]
  },
  {
   "cell_type": "code",
   "execution_count": 37,
   "metadata": {},
   "outputs": [
    {
     "name": "stdout",
     "output_type": "stream",
     "text": [
      "20 2\n",
      "19.5\n",
      "20 22\n",
      "0.401\n",
      "0.341\n"
     ]
    }
   ],
   "source": [
    "def z(x):\n",
    "    return 0.5*(1+math.erf((x-m)/(sd*(2**0.5))))\n",
    "m,sd=map(int,input().split())\n",
    "one=float(input())\n",
    "le,rt=map(float,input().split())\n",
    "import math\n",
    "print(round(z(one),3))\n",
    "print(round(z(int(rt))-z(int(le)),3))"
   ]
  },
  {
   "cell_type": "markdown",
   "metadata": {},
   "source": [
    "# Day 5: Normal Distribution II"
   ]
  },
  {
   "cell_type": "code",
   "execution_count": 45,
   "metadata": {},
   "outputs": [
    {
     "name": "stdout",
     "output_type": "stream",
     "text": [
      "70 10\n",
      "80\n",
      "60\n",
      "15.87\n",
      "84.13\n",
      "15.87\n"
     ]
    }
   ],
   "source": [
    "def z(x):\n",
    "    return 0.5*(1+math.erf((x-m)/(sd*(2**0.5))))\n",
    "m,sd=map(int,input().split())\n",
    "mark=float(input())\n",
    "pas=float(input())\n",
    "#import math\n",
    "print(round((1-z(mark))*100,2))\n",
    "print(round((1-z(pas))*100,2))\n",
    "print(round(z(pas)*100,2))"
   ]
  },
  {
   "cell_type": "markdown",
   "metadata": {},
   "source": [
    "# Day 6: Central Limit Theorem I"
   ]
  },
  {
   "cell_type": "code",
   "execution_count": 13,
   "metadata": {},
   "outputs": [
    {
     "name": "stdout",
     "output_type": "stream",
     "text": [
      "9800\n",
      "250\n",
      "49\n",
      "15\n",
      "0.0\n"
     ]
    }
   ],
   "source": [
    "import math\n",
    "\n",
    "L= int(input())\n",
    "n=int(input())\n",
    "m=int(input())\n",
    "s=int(input())\n",
    "M=n*m\n",
    "S=s*(math.sqrt(n))\n",
    "\n",
    "\n",
    "def z(x):\n",
    "    return 1-0.5*(1+math.erf((M-L)/(S*(2**0.5))))\n",
    "print(z(M))"
   ]
  },
  {
   "cell_type": "markdown",
   "metadata": {},
   "source": [
    "# Day 6: Central Limit Theorem II"
   ]
  },
  {
   "cell_type": "code",
   "execution_count": 16,
   "metadata": {},
   "outputs": [
    {
     "name": "stdout",
     "output_type": "stream",
     "text": [
      "250\n",
      "100\n",
      "2.4\n",
      "2.0\n",
      "0.6915\n"
     ]
    }
   ],
   "source": [
    "import math\n",
    "\n",
    "L= int(input())\n",
    "n=int(input())\n",
    "m=float(input())\n",
    "s=float(input())\n",
    "M=n*m\n",
    "S=s*(math.sqrt(n))\n",
    "\n",
    "\n",
    "def z(x):\n",
    "    return 1-0.5*(1+math.erf((M-L)/(S*(2**0.5))))\n",
    "print(round(z(M),4))"
   ]
  },
  {
   "cell_type": "markdown",
   "metadata": {},
   "source": [
    "# Day 6: Central Limit Theorem III"
   ]
  },
  {
   "cell_type": "code",
   "execution_count": 41,
   "metadata": {},
   "outputs": [
    {
     "name": "stdout",
     "output_type": "stream",
     "text": [
      "100\n",
      "500\n",
      "80\n",
      "0.95\n",
      "1.96\n",
      "515.68\n",
      "484.32\n"
     ]
    }
   ],
   "source": [
    "#import math\n",
    "\n",
    "n=int(input())\n",
    "M=int(input())\n",
    "S=int(input())\n",
    "per=float(input())\n",
    "z=float(input())\n",
    "s=S/(math.sqrt(n))\n",
    "print(round(M+(z*s),2))\n",
    "print(round(M-(z*s),2))"
   ]
  },
  {
   "cell_type": "markdown",
   "metadata": {},
   "source": [
    "# Day 7: Pearson Correlation Coefficient"
   ]
  },
  {
   "cell_type": "code",
   "execution_count": 51,
   "metadata": {},
   "outputs": [
    {
     "name": "stdout",
     "output_type": "stream",
     "text": [
      "10\n",
      "10 9.8 8 7.8 7.7 7 6 5 4 2\n",
      "200 44 32 24 22 17 15 12 8 4\n",
      "80.88600000000001\n",
      "2.3925091431382244\n",
      "0.612472193720848\n"
     ]
    }
   ],
   "source": [
    "n=int(input())\n",
    "lx=list(map(float, input().split()))\n",
    "ly=list(map(float, input().split()))\n",
    "def cov(lx,ly,n):\n",
    "    c=0\n",
    "    mx=sum(lx)/n\n",
    "    my=sum(ly)/n\n",
    "    for i in range(n):\n",
    "        c+=(1/n)*(lx[i]-mx)*(ly[i]-my)\n",
    "    return c\n",
    "def stdev(x,n):\n",
    "    m=sum(x)/n\n",
    "    s=0\n",
    "    for i in range(n):\n",
    "        s+=((x[i]-m)**2)/n\n",
    "    return math.sqrt(s)\n",
    "print(cov(lx,ly,n))\n",
    "print(stdev(lx,n))\n",
    "print(cov(lx,ly,n)/(stdev(lx,n)*stdev(ly,n)))"
   ]
  },
  {
   "cell_type": "markdown",
   "metadata": {},
   "source": [
    "# Day 8: Least Square Regression Line"
   ]
  },
  {
   "cell_type": "code",
   "execution_count": 59,
   "metadata": {},
   "outputs": [
    {
     "name": "stdout",
     "output_type": "stream",
     "text": [
      "95 85\n",
      "85 95\n",
      "80 70\n",
      "70 65\n",
      "60 70\n",
      "78.288\n"
     ]
    }
   ],
   "source": [
    "from sklearn import linear_model\n",
    "import numpy as np\n",
    "\n",
    "\n",
    "x=[]\n",
    "y=[]\n",
    "for i in range(5):\n",
    "    m,n=map(int, input().split())\n",
    "    x.append(m)\n",
    "    y.append(n)\n",
    "\n",
    "\n",
    "lm = linear_model.LinearRegression()\n",
    "lm.fit(np.asarray(x).reshape(-1, 1), y)\n",
    "a=(lm.intercept_)\n",
    "b=(lm.coef_[0])\n",
    "print(round((a+b*80),3))"
   ]
  },
  {
   "cell_type": "code",
   "execution_count": 62,
   "metadata": {},
   "outputs": [
    {
     "name": "stdout",
     "output_type": "stream",
     "text": [
      "95 85\n",
      "85 95\n",
      "80 70\n",
      "70 65\n",
      "60 70\n",
      "78.288\n"
     ]
    }
   ],
   "source": [
    "n = 5\n",
    "xy = [list(map(int, input().split())) for _ in range(n)]\n",
    "#print(xy)\n",
    "#for x,y in xy:\n",
    "  #  print(x,end=', ')\n",
    "  #  print(y)\n",
    "\n",
    "sx, sy, sx2, sxy = map(sum, zip(*[(x, y, x**2, x * y) for x, y in xy]))\n",
    "b = (n * sxy - sx * sy) / (n * sx2 - sx**2)\n",
    "a = (sy / n) - b * (sx / n)\n",
    "\n",
    "print('{:.3f}'.format(a + b * 80))"
   ]
  },
  {
   "cell_type": "markdown",
   "metadata": {},
   "source": [
    "# Day 9: Multiple Linear Regression"
   ]
  },
  {
   "cell_type": "code",
   "execution_count": 71,
   "metadata": {},
   "outputs": [
    {
     "name": "stdout",
     "output_type": "stream",
     "text": [
      "2 7\n",
      "0.18 0.89 109.85\n",
      "1.0 0.26 155.72\n",
      "0.92 0.11 137.66\n",
      "0.07 0.37 76.17\n",
      "0.85 0.16 139.75\n",
      "0.99 0.41 162.6\n",
      "0.87 0.47 151.77\n",
      "4\n",
      "0.49 0.18\n",
      "105.21\n",
      "0.57 0.83\n",
      "142.67\n",
      "0.56 0.64\n",
      "132.94\n",
      "0.76 0.18\n",
      "129.7\n"
     ]
    }
   ],
   "source": [
    "\n",
    "line1=list(map(int,input().split()))\n",
    "m=line1[0]\n",
    "n=line1[1]\n",
    "X=[]\n",
    "Y=[]\n",
    "for i in range(n):\n",
    "    line=list(map(float,input().split()))\n",
    "    X.append(line[:m])\n",
    "    Y.append(line[m])\n",
    " \n",
    "from sklearn import linear_model\n",
    "lm = linear_model.LinearRegression()\n",
    "lm.fit(X, Y)\n",
    " \n",
    "a = lm.intercept_\n",
    "b = lm.coef_\n",
    "#print a, b[0], b[1]\n",
    "import numpy as np\n",
    " \n",
    "n1=int(input())\n",
    " \n",
    " \n",
    "for j in range(n1):\n",
    "    line=list(map(float,input().split()))\n",
    "    y=a+np.dot(line,b) \n",
    "    print(round(y,2))"
   ]
  },
  {
   "cell_type": "code",
   "execution_count": null,
   "metadata": {},
   "outputs": [],
   "source": [
    "2 7\n",
    "0.18 0.89 109.85\n",
    "1.0 0.26 155.72\n",
    "0.92 0.11 137.66\n",
    "0.07 0.37 76.17\n",
    "0.85 0.16 139.75\n",
    "0.99 0.41 162.60.87 0.47 151.77\n",
    "4\n",
    "0.49 0.18\n",
    "0.57 0.83\n",
    "0.56 0.64\n",
    "0.76 0.18"
   ]
  }
 ],
 "metadata": {
  "kernelspec": {
   "display_name": "Python 3",
   "language": "python",
   "name": "python3"
  },
  "language_info": {
   "codemirror_mode": {
    "name": "ipython",
    "version": 3
   },
   "file_extension": ".py",
   "mimetype": "text/x-python",
   "name": "python",
   "nbconvert_exporter": "python",
   "pygments_lexer": "ipython3",
   "version": "3.8.5"
  }
 },
 "nbformat": 4,
 "nbformat_minor": 4
}
