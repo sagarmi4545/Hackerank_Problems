{
 "cells": [
  {
   "cell_type": "markdown",
   "metadata": {},
   "source": [
    "### Task 1\n",
    "Consider a list (list = []). You can perform the following commands:\n",
    "\n",
    "insert i e: Insert integer  at position .\n",
    "print: Print the list.\n",
    "remove e: Delete the first occurrence of integer .\n",
    "append e: Insert integer  at the end of the list.\n",
    "sort: Sort the list.\n",
    "pop: Pop the last element from the list.\n",
    "reverse: Reverse the list.\n",
    "Initialize your list and read in the value of  followed by  lines of commands where each command will be of the  types listed above. Iterate through each command in order and perform the corresponding operation on your list."
   ]
  },
  {
   "cell_type": "code",
   "execution_count": 4,
   "metadata": {},
   "outputs": [
    {
     "name": "stdout",
     "output_type": "stream",
     "text": [
      "4\n",
      "insert 0 5\n",
      "insert 1 10\n",
      "insert 0 6\n",
      "print\n",
      "[6, 5, 10]\n"
     ]
    }
   ],
   "source": [
    "test =int(input())\n",
    "s=[]\n",
    "for _ in range (test):\n",
    "    cmd=list(input().split())\n",
    "    \n",
    "    if cmd[0]=='insert':\n",
    "        s.insert(int(cmd[1]),int(cmd[2]))\n",
    "    elif cmd[0]==\"remove\":\n",
    "        s.remove(int(cmd[1]))\n",
    "    elif cmd[0]==\"append\":\n",
    "        s.append(int(cmd[1]))\n",
    "    elif cmd[0]==\"sort\":\n",
    "        s.sort()\n",
    "    elif cmd[0]==\"pop\":\n",
    "        s.pop()\n",
    "    elif cmd[0]==\"reverse\":\n",
    "        s.reverse()\n",
    "    elif cmd[0]==\"count\":\n",
    "        v=s.count(int(cmd[1]))\n",
    "        print(v)\n",
    "    elif cmd[0]==\"index\":\n",
    "        x=s.index(int(cmd[1]))\n",
    "        print(x)\n",
    "    elif cmd[0]== 'print':\n",
    "        print(s)"
   ]
  },
  {
   "cell_type": "markdown",
   "metadata": {},
   "source": [
    "### Task 2\n",
    "Given the participants' score sheet for your University Sports Day, you are required to find the runner-up score. You are given n scores. Store them in a list and find the score of the runner-up."
   ]
  },
  {
   "cell_type": "code",
   "execution_count": 6,
   "metadata": {},
   "outputs": [
    {
     "name": "stdout",
     "output_type": "stream",
     "text": [
      "5\n",
      "2 3 5 6 6\n",
      "5\n"
     ]
    }
   ],
   "source": [
    "n = int(input())\n",
    "arr = map(int, input().split())\n",
    "li=[]\n",
    "for i in arr:\n",
    "    if i not in li:\n",
    "        li.append(i)\n",
    "li.sort()\n",
    "print(li[-2])"
   ]
  },
  {
   "cell_type": "markdown",
   "metadata": {},
   "source": [
    "### Task 3\n",
    "Given the names and grades for each student in a class of N students, store them in a nested list and print the name(s) of any student(s) having the second lowest grade."
   ]
  },
  {
   "cell_type": "code",
   "execution_count": 9,
   "metadata": {},
   "outputs": [
    {
     "name": "stdout",
     "output_type": "stream",
     "text": [
      "3\n",
      "sagar\n",
      "55.4\n",
      "vidhya\n",
      "66.5\n",
      "reddy\n",
      "58.9\n",
      "reddy\n"
     ]
    }
   ],
   "source": [
    "scores=[]\n",
    "for _ in range(int(input())):\n",
    "    name = input()\n",
    "    score = float(input())\n",
    "    scores.append([name, score])\n",
    "second_highest = sorted(set([score for name, score in scores]))[1]\n",
    "print('\\n'.join(sorted([name for name, score in scores if score ==second_highest])))"
   ]
  },
  {
   "cell_type": "markdown",
   "metadata": {},
   "source": [
    "### Task 4\n",
    "The provided code stub will read in a dictionary containing key/value pairs of name:[marks] for a list of students. Print the average of the marks array for the student name provided, showing 2 places after the decimal."
   ]
  },
  {
   "cell_type": "code",
   "execution_count": 22,
   "metadata": {},
   "outputs": [
    {
     "name": "stdout",
     "output_type": "stream",
     "text": [
      "3\n",
      "vidhya 55 99 88\n",
      "sagar 88 77 44\n",
      "reddy 55 88 99\n",
      "sagar\n",
      "69.67\n"
     ]
    }
   ],
   "source": [
    "n = int(input())\n",
    "student_marks = {}\n",
    "for _ in range(n):\n",
    "    name,*line= input().split()\n",
    "    scores = list(map(float, line))\n",
    "    student_marks[name] = scores\n",
    "query_name = input()\n",
    "r=student_marks[query_name]\n",
    "print('%.2f'%(sum(r)/len(r)))"
   ]
  },
  {
   "cell_type": "markdown",
   "metadata": {},
   "source": [
    "### Task 5\n",
    "Given an integer, n, and n space-separated integers as input, create a tuple, t, of those n integers. Then compute and print the result of hash(t)."
   ]
  },
  {
   "cell_type": "code",
   "execution_count": 26,
   "metadata": {},
   "outputs": [
    {
     "name": "stdout",
     "output_type": "stream",
     "text": [
      "2\n",
      "1 2\n",
      "-3550055125485641917\n"
     ]
    }
   ],
   "source": [
    "n = int(input())\n",
    "integer_list = map(int, input().split())\n",
    "t=tuple(integer_list)\n",
    "print(hash(t))"
   ]
  },
  {
   "cell_type": "markdown",
   "metadata": {},
   "source": [
    "### Task 6\n",
    "A set is an unordered collection of elements without duplicate entries.\n",
    "When printed, iterated or converted into a sequence, its elements will appear in an arbitrary order."
   ]
  },
  {
   "cell_type": "code",
   "execution_count": 42,
   "metadata": {},
   "outputs": [
    {
     "name": "stdout",
     "output_type": "stream",
     "text": [
      "6\n",
      "4 2 6 2 4 6\n",
      "4.000\n"
     ]
    }
   ],
   "source": [
    "def average(array):\n",
    "    return '%.3f'%(sum(set(array))/len(set(array)))\n",
    "\n",
    "n = int(input())\n",
    "arr = list(map(int, input().split()))\n",
    "result = average(arr)\n",
    "print(result)"
   ]
  },
  {
   "cell_type": "markdown",
   "metadata": {},
   "source": [
    "### Task 7\n",
    "There is an array of  integers. There are also  disjoint sets,  and , each containing  integers. You like all the integers in set  and dislike all the integers in set . Your initial happiness is . For each  integer in the array, if , you add  to your happiness. If , you add  to your happiness. Otherwise, your happiness does not change. Output your final happiness at the end."
   ]
  },
  {
   "cell_type": "code",
   "execution_count": 44,
   "metadata": {},
   "outputs": [
    {
     "name": "stdout",
     "output_type": "stream",
     "text": [
      "1 2 3 4 5\n",
      "7 5 3 4 1\n",
      "5 2 8 4 3\n",
      "3\n"
     ]
    }
   ],
   "source": [
    "happiness=0\n",
    "arr=list(map(int, input().split()))\n",
    "A=set(map(int, input().split()))\n",
    "B=set(map(int, input().split()))\n",
    "for i in arr:\n",
    "    if i in A:\n",
    "        happiness+=1\n",
    "    elif i in B:\n",
    "        happiness+=-1\n",
    "print(happiness)"
   ]
  },
  {
   "cell_type": "markdown",
   "metadata": {},
   "source": [
    "### Task 8\n",
    "Given  sets of integers, M and N, print their symmetric difference in ascending order. The term symmetric difference indicates those values that exist in either  or  but do not exist in both."
   ]
  },
  {
   "cell_type": "code",
   "execution_count": 46,
   "metadata": {},
   "outputs": [
    {
     "name": "stdout",
     "output_type": "stream",
     "text": [
      "4\n",
      "1 2 4 5\n",
      "5\n",
      "2 5 8 9 6\n",
      "1\n",
      "4\n",
      "6\n",
      "8\n",
      "9\n"
     ]
    }
   ],
   "source": [
    "M=int(input())\n",
    "Ms=set(list(map(int, input().split())))\n",
    "N=int(input())\n",
    "Ns=set(list(map(int, input().split())))\n",
    "for i in sorted(Ms.union(Ns)-Ms.intersection(Ns)):\n",
    "    print(i, end=\"\\n\")"
   ]
  },
  {
   "cell_type": "markdown",
   "metadata": {},
   "source": [
    "### Task 9\n",
    "\n",
    "Apply your knowledge of the .add() operation to help your friend Rupal.\n",
    "\n",
    "Rupal has a huge collection of country stamps. She decided to count the total number of distinct country stamps in her collection. She asked for your help. You pick the stamps one by one from a stack of  country stamps.\n",
    "\n",
    "Find the total number of distinct country stamps."
   ]
  },
  {
   "cell_type": "code",
   "execution_count": 47,
   "metadata": {},
   "outputs": [
    {
     "name": "stdout",
     "output_type": "stream",
     "text": [
      "5\n",
      "dd\n",
      "ff\n",
      "jj\n",
      "ff\n",
      "dd\n",
      "3\n"
     ]
    }
   ],
   "source": [
    "n=int(input())\n",
    "se=set()\n",
    "for _ in range(n):\n",
    "    se.add(input())\n",
    "print(len(se))"
   ]
  },
  {
   "cell_type": "markdown",
   "metadata": {},
   "source": [
    "### Task 10\n",
    "You have a non-empty set , and you have to execute  commands given in  lines.\n",
    "\n",
    "The commands will be pop, remove and discard."
   ]
  },
  {
   "cell_type": "code",
   "execution_count": 50,
   "metadata": {},
   "outputs": [
    {
     "name": "stdout",
     "output_type": "stream",
     "text": [
      "9\n",
      "1 2 3 4 5 6 7 8 9\n",
      "10\n",
      "pop\n",
      "remove 9\n",
      "discard 9\n",
      "discard 8\n",
      "remove 7\n",
      "pop\n",
      "discard 6\n",
      "remove 5\n",
      "pop\n",
      "discard 5\n",
      "4\n"
     ]
    }
   ],
   "source": [
    "n = int(input())\n",
    "s = set(map(int, input().split()))\n",
    "N=int(input())\n",
    "for _ in range(N):\n",
    "    cmd=list(input().split())\n",
    "    if cmd[0]==\"pop\":\n",
    "        s.pop()\n",
    "    elif cmd[0]==\"remove\":\n",
    "        s.remove(int(cmd[1]))\n",
    "    elif cmd[0]==\"discard\":\n",
    "        s.discard(int(cmd[1]))\n",
    "print(sum(s))"
   ]
  },
  {
   "cell_type": "markdown",
   "metadata": {},
   "source": [
    "### Task 11\n",
    "The students of District College have subscriptions to English and French newspapers. Some students have subscribed only to English, some have subscribed to only French and some have subscribed to both newspapers.\n",
    "\n",
    "You are given two sets of student roll numbers. One set has subscribed to the English newspaper, and the other set is subscribed to the French newspaper. The same student could be in both sets. Your task is to find the total number of students who have subscribed to at least one newspaper."
   ]
  },
  {
   "cell_type": "code",
   "execution_count": 51,
   "metadata": {},
   "outputs": [
    {
     "name": "stdout",
     "output_type": "stream",
     "text": [
      "4\n",
      "1 23 4 5\n",
      "5\n",
      "23 4 6 9 1\n",
      "6\n"
     ]
    }
   ],
   "source": [
    "a=int(input())\n",
    "ast=set(map(int, input().split()))\n",
    "b=int(input())\n",
    "bs=set(map(int, input().split()))\n",
    "print(len(ast|bs))"
   ]
  },
  {
   "cell_type": "markdown",
   "metadata": {},
   "source": [
    "### Task 12\n",
    "The students of District College have subscriptions to English and French newspapers. Some students have subscribed only to English, some have subscribed only to French, and some have subscribed to both newspapers.\n",
    "\n",
    "You are given two sets of student roll numbers. One set has subscribed to the English newspaper, one set has subscribed to the French newspaper. Your task is to find the total number of students who have subscribed to both newspapers."
   ]
  },
  {
   "cell_type": "code",
   "execution_count": 52,
   "metadata": {},
   "outputs": [
    {
     "name": "stdout",
     "output_type": "stream",
     "text": [
      "4\n",
      "1 23 4 5\n",
      "5\n",
      "23 4 6 9 1\n",
      "3\n"
     ]
    }
   ],
   "source": [
    "a=int(input())\n",
    "ast=set(map(int, input().split()))\n",
    "b=int(input())\n",
    "bs=set(map(int, input().split()))\n",
    "print(len(ast&bs))"
   ]
  },
  {
   "cell_type": "markdown",
   "metadata": {},
   "source": [
    "### Task 13\n",
    "Students of District College have a subscription to English and French newspapers. Some students have subscribed to only the English newspaper, some have subscribed to only the French newspaper, and some have subscribed to both newspapers.\n",
    "\n",
    "You are given two sets of student roll numbers. One set has subscribed to the English newspaper, and one set has subscribed to the French newspaper. Your task is to find the total number of students who have subscribed to only English newspapers."
   ]
  },
  {
   "cell_type": "code",
   "execution_count": 53,
   "metadata": {},
   "outputs": [
    {
     "name": "stdout",
     "output_type": "stream",
     "text": [
      "4\n",
      "1 23 4 5\n",
      "5\n",
      "23 4 6 9 1\n",
      "1\n"
     ]
    }
   ],
   "source": [
    "a=int(input())\n",
    "ast=set(map(int, input().split()))\n",
    "b=int(input())\n",
    "bs=set(map(int, input().split()))\n",
    "print(len(ast-bs))"
   ]
  },
  {
   "cell_type": "markdown",
   "metadata": {},
   "source": [
    "### Task 14\n",
    "Students of District College have subscriptions to English and French newspapers. Some students have subscribed to English only, some have subscribed to French only, and some have subscribed to both newspapers.\n",
    "\n",
    "You are given two sets of student roll numbers. One set has subscribed to the English newspaper, and one set has subscribed to the French newspaper. Your task is to find the total number of students who have subscribed to either the English or the French newspaper but not both."
   ]
  },
  {
   "cell_type": "code",
   "execution_count": 54,
   "metadata": {},
   "outputs": [
    {
     "name": "stdout",
     "output_type": "stream",
     "text": [
      "4\n",
      "1 23 4 5\n",
      "5\n",
      "23 5 8 9 1\n",
      "3\n"
     ]
    }
   ],
   "source": [
    "a=int(input())\n",
    "ast=set(map(int, input().split()))\n",
    "b=int(input())\n",
    "bs=set(map(int, input().split()))\n",
    "print(len(ast^bs))"
   ]
  },
  {
   "cell_type": "markdown",
   "metadata": {},
   "source": [
    "### Task 15\n",
    "You are given a set  and  number of other sets. These  number of sets have to perform some specific mutation operations on set .\n",
    "\n",
    "Your task is to execute those operations and print the sum of elements from set ."
   ]
  },
  {
   "cell_type": "code",
   "execution_count": 55,
   "metadata": {},
   "outputs": [
    {
     "name": "stdout",
     "output_type": "stream",
     "text": [
      "5\n",
      "1 2 3 4 5\n",
      "2\n",
      "update 2\n",
      "5 6\n",
      "difference_update 5\n",
      "4 5 6 2 7\n",
      "4\n"
     ]
    }
   ],
   "source": [
    "a=int(input())\n",
    "seta= set(map(int, input().split()))\n",
    "n=int(input())\n",
    "for _ in range(n):\n",
    "    cmd=list(input().split())\n",
    "    setb=set(map(int, input().split()))\n",
    "    if cmd[0]==\"update\":\n",
    "        seta.update(setb)\n",
    "    elif cmd[0]==\"intersection_update\":\n",
    "        seta.intersection_update(setb)\n",
    "    elif cmd[0]==\"symmetric_difference_update\":\n",
    "        seta.symmetric_difference_update(setb)\n",
    "    elif cmd[0]=='difference_update':\n",
    "        seta.difference_update(setb)\n",
    "        \n",
    "print(sum(seta))"
   ]
  },
  {
   "cell_type": "markdown",
   "metadata": {},
   "source": [
    "### Task 16\n",
    "Mr. Anant Asankhya is the manager at the INFINITE hotel. The hotel has an infinite amount of rooms.\n",
    "\n",
    "One fine day, a finite number of tourists come to stay at the hotel.\n",
    "The tourists consist of:\n",
    "→ A Captain.\n",
    "→ An unknown group of families consisting of  members per group where  ≠ .\n",
    "\n",
    "The Captain was given a separate room, and the rest were given one room per group.\n",
    "\n",
    "Mr. Anant has an unordered list of randomly arranged room entries. The list consists of the room numbers for all of the tourists. The room numbers will appear  times per group except for the Captain's room.\n",
    "\n",
    "Mr. Anant needs you to help him find the Captain's room number.\n",
    "The total number of tourists or the total number of groups of families is not known to you.\n",
    "You only know the value of  and the room number list."
   ]
  },
  {
   "cell_type": "code",
   "execution_count": 56,
   "metadata": {},
   "outputs": [
    {
     "name": "stdout",
     "output_type": "stream",
     "text": [
      "5\n",
      "1 1 1 1 1 2 2 2 2 2 3\n",
      "3\n"
     ]
    }
   ],
   "source": [
    "N=int(input())\n",
    "lis=list(map(int, input().split()))\n",
    "uniq = {}\n",
    "\n",
    "for i in lis:\n",
    "    if not i in uniq:\n",
    "        uniq[i] = 1\n",
    "    else:\n",
    "        uniq[i] += 1\n",
    "\n",
    "for key, val in uniq.items():\n",
    "    if val != N:\n",
    "        print(key)"
   ]
  },
  {
   "cell_type": "markdown",
   "metadata": {},
   "source": [
    "### Task 17\n",
    "You are given two sets,  and .\n",
    "Your job is to find whether set  is a subset of set .\n",
    "\n",
    "If set  is subset of set , print True.\n",
    "If set  is not a subset of set , print False."
   ]
  },
  {
   "cell_type": "code",
   "execution_count": 57,
   "metadata": {},
   "outputs": [
    {
     "name": "stdout",
     "output_type": "stream",
     "text": [
      "3\n",
      "5\n",
      "1 2 3 4 5\n",
      "9\n",
      "9 8 5 6 3 2 1 4 7\n",
      "True\n",
      "1\n",
      "2\n",
      "5\n",
      "3 6 5 4 1\n",
      "False\n",
      "7\n",
      "1 2 3 5 6 8 9\n",
      "3\n",
      "9 8 2\n",
      "False\n"
     ]
    }
   ],
   "source": [
    "N=int(input())\n",
    "for _ in range(N):\n",
    "    a=int(input())\n",
    "    sa=set(map(int, input().split()))\n",
    "    b=int(input())\n",
    "    sb=set(map(int, input().split()))\n",
    "    \n",
    "    if sa&sb==sa:\n",
    "        print(True)\n",
    "    else:\n",
    "        print(False)"
   ]
  },
  {
   "cell_type": "markdown",
   "metadata": {},
   "source": [
    "### Task 18\n",
    "You are given a set  and  other sets.\n",
    "Your job is to find whether set  is a strict superset of each of the  sets.\n",
    "\n",
    "Print True, if  is a strict superset of each of the  sets. Otherwise, print False.\n",
    "\n",
    "A strict superset has at least one element that does not exist in its subset."
   ]
  },
  {
   "cell_type": "code",
   "execution_count": 58,
   "metadata": {},
   "outputs": [
    {
     "name": "stdout",
     "output_type": "stream",
     "text": [
      "1 2  3 4 5 6\n",
      "2\n",
      "2 4 5\n",
      "1 2 4\n",
      "True\n"
     ]
    }
   ],
   "source": [
    "sa=set(map(int, input().split()))\n",
    "N=int(input())\n",
    "count=0\n",
    "for _ in range(N):\n",
    "    sb=set(map(int, input().split()))\n",
    "    if sa&sb==sb:\n",
    "        count+=1\n",
    "    else:\n",
    "        count+=0\n",
    "if count<N:\n",
    "    print(False)\n",
    "elif count==N:\n",
    "    print(True)"
   ]
  },
  {
   "cell_type": "code",
   "execution_count": null,
   "metadata": {},
   "outputs": [],
   "source": []
  }
 ],
 "metadata": {
  "kernelspec": {
   "display_name": "Python 3",
   "language": "python",
   "name": "python3"
  },
  "language_info": {
   "codemirror_mode": {
    "name": "ipython",
    "version": 3
   },
   "file_extension": ".py",
   "mimetype": "text/x-python",
   "name": "python",
   "nbconvert_exporter": "python",
   "pygments_lexer": "ipython3",
   "version": "3.8.5"
  }
 },
 "nbformat": 4,
 "nbformat_minor": 4
}
