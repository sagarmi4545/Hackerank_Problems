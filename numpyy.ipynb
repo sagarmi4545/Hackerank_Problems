{
 "cells": [
  {
   "cell_type": "markdown",
   "metadata": {},
   "source": [
    "### You are given a space separated list of numbers.Your task is to print a reversed NumPy array with the element type float."
   ]
  },
  {
   "cell_type": "code",
   "execution_count": 26,
   "metadata": {},
   "outputs": [
    {
     "name": "stdout",
     "output_type": "stream",
     "text": [
      "4 5 6 7 8 9 10 11 12\n",
      "[12. 11. 10.  9.  8.  7.  6.  5.  4.]\n"
     ]
    }
   ],
   "source": [
    "#import numpy\n",
    "\n",
    "def arrays(arr):\n",
    "    # complete this function\n",
    "    # use numpy.array\n",
    "    li=list(map(float,arr))\n",
    "    li.reverse()\n",
    "    return numpy.array(li)\n",
    "arr = input().strip().split(' ')\n",
    "result = arrays(arr)\n",
    "print(result)"
   ]
  },
  {
   "cell_type": "markdown",
   "metadata": {},
   "source": [
    "### You are given a space separated list of nine integers. Your task is to convert this list into a 3X3 NumPy array."
   ]
  },
  {
   "cell_type": "code",
   "execution_count": 27,
   "metadata": {},
   "outputs": [
    {
     "name": "stdout",
     "output_type": "stream",
     "text": [
      "2 4 6 8 9 7 5 3 10\n",
      "[[ 2  4  6]\n",
      " [ 8  9  7]\n",
      " [ 5  3 10]]\n"
     ]
    }
   ],
   "source": [
    "n=list(map(int,input().split(\" \")))\n",
    "print(numpy.reshape(numpy.array(n),(3,3)))"
   ]
  },
  {
   "cell_type": "markdown",
   "metadata": {},
   "source": [
    "### You are given a X integer array matrix with space separated elements ( = rows and  = columns). Your task is to print the transpose and flatten results."
   ]
  },
  {
   "cell_type": "code",
   "execution_count": 39,
   "metadata": {},
   "outputs": [
    {
     "name": "stdout",
     "output_type": "stream",
     "text": [
      "2 2\n",
      "1 2\n",
      "3 4\n",
      "[[1 3]\n",
      " [2 4]]\n",
      "[1 2 3 4]\n"
     ]
    }
   ],
   "source": [
    "n,m=list(map(int, input().split(\" \")))\n",
    "li=[]\n",
    "for i in range(n):\n",
    "    li.append(list(map(int, input().split(\" \"))))\n",
    "print(numpy.transpose(numpy.array(li)))\n",
    "print(numpy.array(li).flatten())"
   ]
  },
  {
   "cell_type": "markdown",
   "metadata": {},
   "source": [
    "### You are given two integer arrays of size NXP and MXP ( N&M  are rows, and P is the column). Your task is to concatenate the arrays along axis 0."
   ]
  },
  {
   "cell_type": "code",
   "execution_count": 75,
   "metadata": {},
   "outputs": [
    {
     "name": "stdout",
     "output_type": "stream",
     "text": [
      "4 3 2\n",
      "1 2\n",
      "1 2\n",
      "1 2\n",
      "1 2\n",
      "3 4\n",
      "3 4\n",
      "3 4\n",
      "[[1 2]\n",
      " [1 2]\n",
      " [1 2]\n",
      " [1 2]\n",
      " [3 4]\n",
      " [3 4]\n",
      " [3 4]]\n"
     ]
    }
   ],
   "source": [
    "n,m,p=list(map(int, input().split(\" \")))\n",
    "li=[]\n",
    "for i in range(n+m):\n",
    "    li.append(list(map(int, input().split(\" \"))))\n",
    "print(numpy.array(li))"
   ]
  },
  {
   "cell_type": "markdown",
   "metadata": {},
   "source": [
    "### ZEROS and Ones"
   ]
  },
  {
   "cell_type": "code",
   "execution_count": 2,
   "metadata": {},
   "outputs": [
    {
     "name": "stdout",
     "output_type": "stream",
     "text": [
      "2 2 3\n",
      "[[[0 0 0]\n",
      "  [0 0 0]]\n",
      "\n",
      " [[0 0 0]\n",
      "  [0 0 0]]]\n",
      "[[[1 1 1]\n",
      "  [1 1 1]]\n",
      "\n",
      " [[1 1 1]\n",
      "  [1 1 1]]]\n"
     ]
    }
   ],
   "source": [
    "import  numpy\n",
    "N = tuple(map(int, input().split()))\n",
    "\n",
    "                \n",
    "print(numpy.zeros(N, dtype = numpy.int))\n",
    "print(numpy.ones(N, dtype = numpy.int))"
   ]
  },
  {
   "cell_type": "markdown",
   "metadata": {},
   "source": [
    "### Eye and Identity"
   ]
  },
  {
   "cell_type": "code",
   "execution_count": 3,
   "metadata": {},
   "outputs": [
    {
     "name": "stdout",
     "output_type": "stream",
     "text": [
      "2 6\n",
      "[[ 1.  0.  0.  0.  0.  0.]\n",
      " [ 0.  1.  0.  0.  0.  0.]]\n"
     ]
    }
   ],
   "source": [
    "\n",
    "numpy.set_printoptions(sign=' ')\n",
    "print(numpy.eye(*map(int, input().split())))"
   ]
  },
  {
   "cell_type": "markdown",
   "metadata": {},
   "source": [
    "### Array Mathematics"
   ]
  },
  {
   "cell_type": "code",
   "execution_count": 4,
   "metadata": {},
   "outputs": [
    {
     "name": "stdout",
     "output_type": "stream",
     "text": [
      "1 4\n",
      "2 4 8 16\n",
      "1 2 3 4\n",
      "[[ 3  6 11 20]]\n",
      "[[ 1  2  5 12]]\n",
      "[[ 2  8 24 64]]\n",
      "[[2 2 2 4]]\n",
      "[[0 0 2 0]]\n",
      "[[    2    16   512 65536]]\n"
     ]
    }
   ],
   "source": [
    "n,m=map(int, input().split(\" \"))\n",
    "arr1=[]\n",
    "for i in range(n):\n",
    "    arr1.append(list(map(int, input().split(\" \"))))\n",
    "arr1=numpy.array(arr1)\n",
    "\n",
    "arr2=[]\n",
    "for i in range(n):\n",
    "    arr2.append(list(map(int, input().split(\" \"))))\n",
    "arr2=numpy.array(arr2)\n",
    "print(numpy.add(arr1,arr2))\n",
    "print(numpy.subtract(arr1,arr2))\n",
    "print(numpy.multiply(arr1,arr2))\n",
    "print(arr1//arr2)\n",
    "print(numpy.mod(arr1,arr2))\n",
    "print(numpy.power(arr1,arr2))"
   ]
  },
  {
   "cell_type": "markdown",
   "metadata": {},
   "source": [
    "### Floor, Ceil, Rint"
   ]
  },
  {
   "cell_type": "code",
   "execution_count": 5,
   "metadata": {},
   "outputs": [
    {
     "name": "stdout",
     "output_type": "stream",
     "text": [
      "2.2 4.4 5.5 6.6 7.7 8.8\n",
      "[ 2.  4.  5.  6.  7.  8.]\n",
      "[ 3.  5.  6.  7.  8.  9.]\n",
      "[ 2.  4.  6.  7.  8.  9.]\n"
     ]
    }
   ],
   "source": [
    "arr=numpy.array(list(map(float, input().split())))\n",
    "numpy.set_printoptions(legacy='1.13')\n",
    "print(numpy.floor(arr))\n",
    "print(numpy.ceil(arr))\n",
    "print(numpy.rint(arr))"
   ]
  },
  {
   "cell_type": "markdown",
   "metadata": {},
   "source": [
    "### Sum and Prod"
   ]
  },
  {
   "cell_type": "code",
   "execution_count": 6,
   "metadata": {},
   "outputs": [
    {
     "name": "stdout",
     "output_type": "stream",
     "text": [
      "2 2\n",
      "1 2\n",
      "4 8\n",
      "50\n"
     ]
    }
   ],
   "source": [
    "n,m=map(int, input().split())\n",
    "arr=[]\n",
    "for i in range(n):\n",
    "    arr.append(list(map(int, input().split())))\n",
    "arr-numpy.array(arr)\n",
    "\n",
    "print(numpy.prod(numpy.sum(arr, axis=0)))"
   ]
  },
  {
   "cell_type": "markdown",
   "metadata": {},
   "source": [
    "### Min and Max"
   ]
  },
  {
   "cell_type": "code",
   "execution_count": 7,
   "metadata": {},
   "outputs": [
    {
     "name": "stdout",
     "output_type": "stream",
     "text": [
      "2 4\n",
      "2 2 4 4\n",
      "4 4 5 8\n",
      "4\n"
     ]
    }
   ],
   "source": [
    "n,m=map(int, input().split())\n",
    "a=[]\n",
    "for i in range(n):\n",
    "    a.append(list(map(int, input().split())))\n",
    "a=numpy.array(a)\n",
    "print(numpy.max(numpy.min(a, axis=1)))"
   ]
  },
  {
   "cell_type": "markdown",
   "metadata": {},
   "source": [
    "### Mean, Var, Std"
   ]
  },
  {
   "cell_type": "code",
   "execution_count": 8,
   "metadata": {},
   "outputs": [
    {
     "name": "stdout",
     "output_type": "stream",
     "text": [
      "2 2\n",
      "1 2\n",
      "3 4\n",
      "[ 1.5  3.5]\n",
      "[ 1.  1.]\n",
      "1.11803398875\n"
     ]
    }
   ],
   "source": [
    "n,m=map(int, input().split())\n",
    "a=[]\n",
    "for i in range(n):\n",
    "    a.append(list(map(int, input().split())))\n",
    "a=numpy.array(a)\n",
    "print(numpy.mean(a, axis=1))\n",
    "print(numpy.var(a, axis=0))\n",
    "print(round(numpy.std(a),11))"
   ]
  },
  {
   "cell_type": "markdown",
   "metadata": {},
   "source": [
    "### Dot and Cross"
   ]
  },
  {
   "cell_type": "code",
   "execution_count": 12,
   "metadata": {},
   "outputs": [
    {
     "name": "stdout",
     "output_type": "stream",
     "text": [
      "2\n",
      "1 2\n",
      "3 4\n",
      "1 2\n",
      "3 4\n",
      "[[ 7 10]\n",
      " [15 22]]\n"
     ]
    }
   ],
   "source": [
    "n=int(input())\n",
    "a=[]\n",
    "for i in range(n):\n",
    "    a.append(list(map(int, input().split())))\n",
    "b=[]\n",
    "for i in range(n):\n",
    "    b.append(list(map(int, input().split())))\n",
    "mul=[]\n",
    "for col in range(n):\n",
    "    li=[]\n",
    "    for row in range(n):\n",
    "        t=0\n",
    "        for k in range(n):\n",
    "            t+=a[col][k]*b[k][row]\n",
    "        li.append(t)\n",
    "    mul.append(li)\n",
    "print(numpy.array(mul))"
   ]
  },
  {
   "cell_type": "markdown",
   "metadata": {},
   "source": [
    "### Inner and Outer"
   ]
  },
  {
   "cell_type": "code",
   "execution_count": null,
   "metadata": {},
   "outputs": [],
   "source": []
  },
  {
   "cell_type": "markdown",
   "metadata": {},
   "source": [
    "### Polynomials"
   ]
  },
  {
   "cell_type": "code",
   "execution_count": 13,
   "metadata": {},
   "outputs": [
    {
     "name": "stdout",
     "output_type": "stream",
     "text": [
      "1.1 2 3\n",
      "0\n",
      "3.0\n"
     ]
    }
   ],
   "source": [
    "poly = [float(x) for x in input().split()]\n",
    "x = float(input())\n",
    "\n",
    "print(numpy.polyval(poly, x))"
   ]
  },
  {
   "cell_type": "code",
   "execution_count": 14,
   "metadata": {},
   "outputs": [
    {
     "name": "stdout",
     "output_type": "stream",
     "text": [
      "0 1\n",
      "2 3\n",
      "3\n",
      "[[0 0]\n",
      " [2 3]]\n"
     ]
    }
   ],
   "source": [
    "A=numpy.array(list(map(int, input().split())))\n",
    "B=numpy.array(list(map(int, input().split())))\n",
    "print(numpy.inner(A,B))\n",
    "print(numpy.outer(A,B))"
   ]
  },
  {
   "cell_type": "markdown",
   "metadata": {},
   "source": [
    "### Linear Algebra"
   ]
  },
  {
   "cell_type": "code",
   "execution_count": 15,
   "metadata": {},
   "outputs": [
    {
     "name": "stdout",
     "output_type": "stream",
     "text": [
      "2\n",
      "1.1 1.1\n",
      "1.1 1.1\n",
      "0.0\n"
     ]
    }
   ],
   "source": [
    "n=int(input())\n",
    "a=[]\n",
    "for i in range(n):\n",
    "    a.append(list(map(float, input().split())))\n",
    "print(round(numpy.linalg.det(a),2))"
   ]
  },
  {
   "cell_type": "code",
   "execution_count": null,
   "metadata": {},
   "outputs": [],
   "source": []
  }
 ],
 "metadata": {
  "kernelspec": {
   "display_name": "Python 3",
   "language": "python",
   "name": "python3"
  },
  "language_info": {
   "codemirror_mode": {
    "name": "ipython",
    "version": 3
   },
   "file_extension": ".py",
   "mimetype": "text/x-python",
   "name": "python",
   "nbconvert_exporter": "python",
   "pygments_lexer": "ipython3",
   "version": "3.8.5"
  }
 },
 "nbformat": 4,
 "nbformat_minor": 4
}
